{
 "cells": [
  {
   "cell_type": "code",
   "execution_count": 1,
   "metadata": {},
   "outputs": [
    {
     "name": "stderr",
     "output_type": "stream",
     "text": [
      "/Users/sam/opt/anaconda3/envs/learn-env/lib/python3.6/site-packages/statsmodels/tools/_testing.py:19: FutureWarning: pandas.util.testing is deprecated. Use the functions in the public API at pandas.testing instead.\n",
      "  import pandas.util.testing as tm\n"
     ]
    }
   ],
   "source": [
    "%load_ext autoreload\n",
    "%autoreload 2\n",
    "import pandas as pd\n",
    "import numpy as np\n",
    "from sklearn.ensemble import RandomForestRegressor\n",
    "from sklearn.preprocessing import StandardScaler\n",
    "from sklearn.model_selection import train_test_split\n",
    "from sklearn.model_selection import cross_val_score\n",
    "\n",
    "import seaborn as sns\n",
    "import matplotlib.pyplot as plt\n",
    "\n"
   ]
  },
  {
   "cell_type": "code",
   "execution_count": 2,
   "metadata": {},
   "outputs": [
    {
     "data": {
      "text/html": [
       "<div>\n",
       "<style scoped>\n",
       "    .dataframe tbody tr th:only-of-type {\n",
       "        vertical-align: middle;\n",
       "    }\n",
       "\n",
       "    .dataframe tbody tr th {\n",
       "        vertical-align: top;\n",
       "    }\n",
       "\n",
       "    .dataframe thead th {\n",
       "        text-align: right;\n",
       "    }\n",
       "</style>\n",
       "<table border=\"1\" class=\"dataframe\">\n",
       "  <thead>\n",
       "    <tr style=\"text-align: right;\">\n",
       "      <th></th>\n",
       "      <th>Age</th>\n",
       "      <th>Tonnage</th>\n",
       "      <th>passengers</th>\n",
       "      <th>length</th>\n",
       "      <th>cabins</th>\n",
       "      <th>passenger_density</th>\n",
       "      <th>crew</th>\n",
       "    </tr>\n",
       "  </thead>\n",
       "  <tbody>\n",
       "    <tr>\n",
       "      <th>count</th>\n",
       "      <td>158.000000</td>\n",
       "      <td>158.000000</td>\n",
       "      <td>158.000000</td>\n",
       "      <td>158.000000</td>\n",
       "      <td>158.000000</td>\n",
       "      <td>158.000000</td>\n",
       "      <td>158.000000</td>\n",
       "    </tr>\n",
       "    <tr>\n",
       "      <th>mean</th>\n",
       "      <td>15.689873</td>\n",
       "      <td>71.284671</td>\n",
       "      <td>18.457405</td>\n",
       "      <td>8.130633</td>\n",
       "      <td>8.830000</td>\n",
       "      <td>39.900949</td>\n",
       "      <td>7.794177</td>\n",
       "    </tr>\n",
       "    <tr>\n",
       "      <th>std</th>\n",
       "      <td>7.615691</td>\n",
       "      <td>37.229540</td>\n",
       "      <td>9.677095</td>\n",
       "      <td>1.793474</td>\n",
       "      <td>4.471417</td>\n",
       "      <td>8.639217</td>\n",
       "      <td>3.503487</td>\n",
       "    </tr>\n",
       "    <tr>\n",
       "      <th>min</th>\n",
       "      <td>4.000000</td>\n",
       "      <td>2.329000</td>\n",
       "      <td>0.660000</td>\n",
       "      <td>2.790000</td>\n",
       "      <td>0.330000</td>\n",
       "      <td>17.700000</td>\n",
       "      <td>0.590000</td>\n",
       "    </tr>\n",
       "    <tr>\n",
       "      <th>25%</th>\n",
       "      <td>10.000000</td>\n",
       "      <td>46.013000</td>\n",
       "      <td>12.535000</td>\n",
       "      <td>7.100000</td>\n",
       "      <td>6.132500</td>\n",
       "      <td>34.570000</td>\n",
       "      <td>5.480000</td>\n",
       "    </tr>\n",
       "    <tr>\n",
       "      <th>50%</th>\n",
       "      <td>14.000000</td>\n",
       "      <td>71.899000</td>\n",
       "      <td>19.500000</td>\n",
       "      <td>8.555000</td>\n",
       "      <td>9.570000</td>\n",
       "      <td>39.085000</td>\n",
       "      <td>8.150000</td>\n",
       "    </tr>\n",
       "    <tr>\n",
       "      <th>75%</th>\n",
       "      <td>20.000000</td>\n",
       "      <td>90.772500</td>\n",
       "      <td>24.845000</td>\n",
       "      <td>9.510000</td>\n",
       "      <td>10.885000</td>\n",
       "      <td>44.185000</td>\n",
       "      <td>9.990000</td>\n",
       "    </tr>\n",
       "    <tr>\n",
       "      <th>max</th>\n",
       "      <td>48.000000</td>\n",
       "      <td>220.000000</td>\n",
       "      <td>54.000000</td>\n",
       "      <td>11.820000</td>\n",
       "      <td>27.000000</td>\n",
       "      <td>71.430000</td>\n",
       "      <td>21.000000</td>\n",
       "    </tr>\n",
       "  </tbody>\n",
       "</table>\n",
       "</div>"
      ],
      "text/plain": [
       "              Age     Tonnage  passengers      length      cabins  \\\n",
       "count  158.000000  158.000000  158.000000  158.000000  158.000000   \n",
       "mean    15.689873   71.284671   18.457405    8.130633    8.830000   \n",
       "std      7.615691   37.229540    9.677095    1.793474    4.471417   \n",
       "min      4.000000    2.329000    0.660000    2.790000    0.330000   \n",
       "25%     10.000000   46.013000   12.535000    7.100000    6.132500   \n",
       "50%     14.000000   71.899000   19.500000    8.555000    9.570000   \n",
       "75%     20.000000   90.772500   24.845000    9.510000   10.885000   \n",
       "max     48.000000  220.000000   54.000000   11.820000   27.000000   \n",
       "\n",
       "       passenger_density        crew  \n",
       "count         158.000000  158.000000  \n",
       "mean           39.900949    7.794177  \n",
       "std             8.639217    3.503487  \n",
       "min            17.700000    0.590000  \n",
       "25%            34.570000    5.480000  \n",
       "50%            39.085000    8.150000  \n",
       "75%            44.185000    9.990000  \n",
       "max            71.430000   21.000000  "
      ]
     },
     "execution_count": 2,
     "metadata": {},
     "output_type": "execute_result"
    }
   ],
   "source": [
    "df = pd.read_csv('data/cruise_ship_info.csv')\n",
    "df.describe()"
   ]
  },
  {
   "cell_type": "code",
   "execution_count": 3,
   "metadata": {},
   "outputs": [
    {
     "data": {
      "text/plain": [
       "<matplotlib.axes._subplots.AxesSubplot at 0x1a177ab160>"
      ]
     },
     "execution_count": 3,
     "metadata": {},
     "output_type": "execute_result"
    },
    {
     "data": {
      "image/png": "[encoded data removed]",
      "text/plain": [
       "<Figure size 432x288 with 2 Axes>"
      ]
     },
     "metadata": {
      "needs_background": "light"
     },
     "output_type": "display_data"
    }
   ],
   "source": [
    "corr = df.corr()\n",
    "# Generate a mask for the upper triangle\n",
    "mask = np.triu(np.ones_like(corr, dtype=np.bool))\n",
    "sns.heatmap(corr, mask=mask, square=True, annot=True)"
   ]
  },
  {
   "cell_type": "code",
   "execution_count": 4,
   "metadata": {},
   "outputs": [
    {
     "data": {
      "text/html": [
       "<div>\n",
       "<style scoped>\n",
       "    .dataframe tbody tr th:only-of-type {\n",
       "        vertical-align: middle;\n",
       "    }\n",
       "\n",
       "    .dataframe tbody tr th {\n",
       "        vertical-align: top;\n",
       "    }\n",
       "\n",
       "    .dataframe thead th {\n",
       "        text-align: right;\n",
       "    }\n",
       "</style>\n",
       "<table border=\"1\" class=\"dataframe\">\n",
       "  <thead>\n",
       "    <tr style=\"text-align: right;\">\n",
       "      <th></th>\n",
       "      <th>Age</th>\n",
       "      <th>Tonnage</th>\n",
       "      <th>passengers</th>\n",
       "      <th>length</th>\n",
       "      <th>cabins</th>\n",
       "      <th>passenger_density</th>\n",
       "    </tr>\n",
       "  </thead>\n",
       "  <tbody>\n",
       "    <tr>\n",
       "      <th>0</th>\n",
       "      <td>6</td>\n",
       "      <td>30.277</td>\n",
       "      <td>6.94</td>\n",
       "      <td>5.94</td>\n",
       "      <td>3.55</td>\n",
       "      <td>42.64</td>\n",
       "    </tr>\n",
       "    <tr>\n",
       "      <th>1</th>\n",
       "      <td>6</td>\n",
       "      <td>30.277</td>\n",
       "      <td>6.94</td>\n",
       "      <td>5.94</td>\n",
       "      <td>3.55</td>\n",
       "      <td>42.64</td>\n",
       "    </tr>\n",
       "    <tr>\n",
       "      <th>2</th>\n",
       "      <td>26</td>\n",
       "      <td>47.262</td>\n",
       "      <td>14.86</td>\n",
       "      <td>7.22</td>\n",
       "      <td>7.43</td>\n",
       "      <td>31.80</td>\n",
       "    </tr>\n",
       "    <tr>\n",
       "      <th>3</th>\n",
       "      <td>11</td>\n",
       "      <td>110.000</td>\n",
       "      <td>29.74</td>\n",
       "      <td>9.53</td>\n",
       "      <td>14.88</td>\n",
       "      <td>36.99</td>\n",
       "    </tr>\n",
       "    <tr>\n",
       "      <th>4</th>\n",
       "      <td>17</td>\n",
       "      <td>101.353</td>\n",
       "      <td>26.42</td>\n",
       "      <td>8.92</td>\n",
       "      <td>13.21</td>\n",
       "      <td>38.36</td>\n",
       "    </tr>\n",
       "  </tbody>\n",
       "</table>\n",
       "</div>"
      ],
      "text/plain": [
       "   Age  Tonnage  passengers  length  cabins  passenger_density\n",
       "0    6   30.277        6.94    5.94    3.55              42.64\n",
       "1    6   30.277        6.94    5.94    3.55              42.64\n",
       "2   26   47.262       14.86    7.22    7.43              31.80\n",
       "3   11  110.000       29.74    9.53   14.88              36.99\n",
       "4   17  101.353       26.42    8.92   13.21              38.36"
      ]
     },
     "execution_count": 4,
     "metadata": {},
     "output_type": "execute_result"
    }
   ],
   "source": [
    "X = df[['Age', 'Tonnage', 'passengers', 'length', 'cabins', 'passenger_density']]\n",
    "X_small = df[['Age', 'Tonnage', 'passengers', 'length', 'cabins']]\n",
    "y = df['crew']\n",
    "X.head()"
   ]
  },
  {
   "cell_type": "code",
   "execution_count": 5,
   "metadata": {},
   "outputs": [
    {
     "data": {
      "text/html": [
       "<div>\n",
       "<style scoped>\n",
       "    .dataframe tbody tr th:only-of-type {\n",
       "        vertical-align: middle;\n",
       "    }\n",
       "\n",
       "    .dataframe tbody tr th {\n",
       "        vertical-align: top;\n",
       "    }\n",
       "\n",
       "    .dataframe thead th {\n",
       "        text-align: right;\n",
       "    }\n",
       "</style>\n",
       "<table border=\"1\" class=\"dataframe\">\n",
       "  <thead>\n",
       "    <tr style=\"text-align: right;\">\n",
       "      <th></th>\n",
       "      <th>Age</th>\n",
       "      <th>Tonnage</th>\n",
       "      <th>passengers</th>\n",
       "      <th>length</th>\n",
       "      <th>cabins</th>\n",
       "      <th>passenger_density</th>\n",
       "    </tr>\n",
       "  </thead>\n",
       "  <tbody>\n",
       "    <tr>\n",
       "      <th>0</th>\n",
       "      <td>-1.276402</td>\n",
       "      <td>-1.104984</td>\n",
       "      <td>-1.193956</td>\n",
       "      <td>-1.225331</td>\n",
       "      <td>-1.184588</td>\n",
       "      <td>0.318057</td>\n",
       "    </tr>\n",
       "    <tr>\n",
       "      <th>1</th>\n",
       "      <td>-1.276402</td>\n",
       "      <td>-1.104984</td>\n",
       "      <td>-1.193956</td>\n",
       "      <td>-1.225331</td>\n",
       "      <td>-1.184588</td>\n",
       "      <td>0.318057</td>\n",
       "    </tr>\n",
       "    <tr>\n",
       "      <th>2</th>\n",
       "      <td>1.358105</td>\n",
       "      <td>-0.647310</td>\n",
       "      <td>-0.372926</td>\n",
       "      <td>-0.509363</td>\n",
       "      <td>-0.314095</td>\n",
       "      <td>-0.940676</td>\n",
       "    </tr>\n",
       "    <tr>\n",
       "      <th>3</th>\n",
       "      <td>-0.617775</td>\n",
       "      <td>1.043215</td>\n",
       "      <td>1.169614</td>\n",
       "      <td>0.782736</td>\n",
       "      <td>1.357341</td>\n",
       "      <td>-0.338017</td>\n",
       "    </tr>\n",
       "    <tr>\n",
       "      <th>4</th>\n",
       "      <td>0.172577</td>\n",
       "      <td>0.810215</td>\n",
       "      <td>0.825445</td>\n",
       "      <td>0.441533</td>\n",
       "      <td>0.982670</td>\n",
       "      <td>-0.178934</td>\n",
       "    </tr>\n",
       "  </tbody>\n",
       "</table>\n",
       "</div>"
      ],
      "text/plain": [
       "        Age   Tonnage  passengers    length    cabins  passenger_density\n",
       "0 -1.276402 -1.104984   -1.193956 -1.225331 -1.184588           0.318057\n",
       "1 -1.276402 -1.104984   -1.193956 -1.225331 -1.184588           0.318057\n",
       "2  1.358105 -0.647310   -0.372926 -0.509363 -0.314095          -0.940676\n",
       "3 -0.617775  1.043215    1.169614  0.782736  1.357341          -0.338017\n",
       "4  0.172577  0.810215    0.825445  0.441533  0.982670          -0.178934"
      ]
     },
     "execution_count": 5,
     "metadata": {},
     "output_type": "execute_result"
    }
   ],
   "source": [
    "ss = StandardScaler()\n",
    "cols = list(X.columns)\n",
    "X = pd.DataFrame(ss.fit_transform(X),columns=cols)\n",
    "X.head()"
   ]
  },
  {
   "cell_type": "code",
   "execution_count": 7,
   "metadata": {},
   "outputs": [],
   "source": [
    "X_train, X_test, y_train, y_test = train_test_split(X_small, y, test_size=0.33, random_state=41)\n"
   ]
  },
  {
   "cell_type": "code",
   "execution_count": 8,
   "metadata": {},
   "outputs": [
    {
     "data": {
      "text/plain": [
       "0.8360732619750086"
      ]
     },
     "execution_count": 8,
     "metadata": {},
     "output_type": "execute_result"
    }
   ],
   "source": [
    "rfr = RandomForestRegressor()\n",
    "rfr.fit(X_train,y_train)\n",
    "rfr.score(X_test, y_test)"
   ]
  },
  {
   "cell_type": "code",
   "execution_count": 11,
   "metadata": {},
   "outputs": [],
   "source": [
    "y_pred = rfr.predict(X_small)"
   ]
  },
  {
   "cell_type": "code",
   "execution_count": 12,
   "metadata": {},
   "outputs": [
    {
     "data": {
      "image/png": "[encoded data removed]",
      "text/plain": [
       "<Figure size 720x432 with 1 Axes>"
      ]
     },
     "metadata": {
      "needs_background": "light"
     },
     "output_type": "display_data"
    }
   ],
   "source": [
    "fig, ax = plt.subplots(figsize=(10,6))\n",
    "ax = plt.bar(X_small.index,y)\n",
    "ax = plt.bar(X_small.index-.5, y_pred)"
   ]
  },
  {
   "cell_type": "code",
   "execution_count": null,
   "metadata": {},
   "outputs": [],
   "source": []
  }
 ],
 "metadata": {
  "kernelspec": {
   "display_name": "Python [conda env:learn-env] *",
   "language": "python",
   "name": "conda-env-learn-env-py"
  },
  "language_info": {
   "codemirror_mode": {
    "name": "ipython",
    "version": 3
   },
   "file_extension": ".py",
   "mimetype": "text/x-python",
   "name": "python",
   "nbconvert_exporter": "python",
   "pygments_lexer": "ipython3",
   "version": "3.6.9"
  }
 },
 "nbformat": 4,
 "nbformat_minor": 4
}
